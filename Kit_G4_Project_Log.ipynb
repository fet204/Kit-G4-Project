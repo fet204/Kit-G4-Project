{
  "nbformat": 4,
  "nbformat_minor": 0,
  "metadata": {
    "colab": {
      "name": "Kit G4 Project Log.ipynb",
      "provenance": [],
      "authorship_tag": "ABX9TyOu1MvgLQuGeTKvE3sCkt1A",
      "include_colab_link": true
    },
    "kernelspec": {
      "name": "python3",
      "display_name": "Python 3"
    },
    "language_info": {
      "name": "python"
    }
  },
  "cells": [
    {
      "cell_type": "markdown",
      "metadata": {
        "id": "view-in-github",
        "colab_type": "text"
      },
      "source": [
        "<a href=\"https://colab.research.google.com/github/fet204/Kit-G4-Project/blob/main/Kit_G4_Project_Log.ipynb\" target=\"_parent\"><img src=\"https://colab.research.google.com/assets/colab-badge.svg\" alt=\"Open In Colab\"/></a>"
      ]
    },
    {
      "cell_type": "code",
      "execution_count": null,
      "metadata": {
        "id": "X5YldIYutKeA"
      },
      "outputs": [],
      "source": [
        "Test \n"
      ]
    }
  ]
}